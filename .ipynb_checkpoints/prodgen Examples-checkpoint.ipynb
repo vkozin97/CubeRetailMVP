{
 "cells": [
  {
   "cell_type": "code",
   "execution_count": 1,
   "metadata": {},
   "outputs": [],
   "source": [
    "from prodgen import productsFile, clustersFile, lambdasFile, ProductsGenerator\n",
    "import numpy as np\n",
    "import pandas as pd"
   ]
  },
  {
   "cell_type": "code",
   "execution_count": 2,
   "metadata": {},
   "outputs": [],
   "source": [
    "productsGenerator = ProductsGenerator(productsList=productsFile,\n",
    "                                      clustersList=clustersFile,\n",
    "                                      lambdas=lambdasFile)"
   ]
  },
  {
   "cell_type": "code",
   "execution_count": 3,
   "metadata": {},
   "outputs": [
    {
     "name": "stdout",
     "output_type": "stream",
     "text": [
      "Product 0: Молоко\n",
      "Product 1: Детская игрушка\n",
      "Product 2: Huggies (Подгузники)\n",
      "Product 3: Соска (Заглушка для малышей)\n",
      "Product 4: Журнал\n",
      "Product 5: Мясо\n",
      "Product 6: Гречка\n",
      "Product 7: Пиво\n",
      "Product 8: Вино\n",
      "Product 9: Водка\n",
      "Product 10: Хлеб\n",
      "Product 11: Гамбургер\n",
      "Product 12: Колбаса\n",
      "------------------------------\n",
      "Cluster 0: Молодые родители\n",
      "Cluster 1: Старики\n",
      "Cluster 2: Любители выпить\n",
      "Cluster 3: Здоровое питание\n",
      "------------------------------\n",
      "                  Молоко  Детская игрушка  Huggies  Соска  Журнал  Мясо  \\\n",
      "Молодые родители    4.01             0.31     1.01   0.11    0.21  1.01   \n",
      "Старики             1.51             0.01     0.31   0.01    0.51  0.71   \n",
      "Любители выпить     0.61             0.01     0.01   0.01    0.11  1.21   \n",
      "Здоровое питание    2.01             0.01     0.01   0.01    0.21  0.81   \n",
      "\n",
      "                  Гречка  Пиво  Вино  Водка  Хлеб  Гамбургер  Колбаса  \n",
      "Молодые родители    1.01  0.51  0.31   0.02  1.01       0.01     0.41  \n",
      "Старики             1.51  0.41  0.11   0.41  0.61       0.01     0.31  \n",
      "Любители выпить     0.71  1.51  0.51   0.91  0.71       0.51     0.81  \n",
      "Здоровое питание    1.51  0.11  0.41   0.01  0.41       0.01     0.11  \n"
     ]
    }
   ],
   "source": [
    "print(productsGenerator)"
   ]
  },
  {
   "cell_type": "code",
   "execution_count": 4,
   "metadata": {},
   "outputs": [],
   "source": [
    "check, pred = productsGenerator.getProductsListAndClusterPrediction(clientId=0)"
   ]
  },
  {
   "cell_type": "code",
   "execution_count": 5,
   "metadata": {},
   "outputs": [
    {
     "name": "stdout",
     "output_type": "stream",
     "text": [
      "Modeled checklist:\n",
      " {'Молоко': 4, 'Мясо': 1, 'Гречка': 3, 'Вино': 2}\n",
      "--------------------\n",
      "Cluster prediction:\n",
      " Cluster 3: Здоровое питание\n"
     ]
    }
   ],
   "source": [
    "print(\"Modeled checklist:\\n\", check)\n",
    "print(\"-\" * 20)\n",
    "print(\"Cluster prediction:\\n\", pred)"
   ]
  },
  {
   "cell_type": "code",
   "execution_count": 6,
   "metadata": {},
   "outputs": [],
   "source": [
    "tests = 10000\n",
    "richness = 1.5\n",
    "classes = [cluster.name for cluster in productsGenerator.clustersList]\n",
    "confusionMatrix = pd.DataFrame(np.zeros((len(classes), len(classes))), index=classes, columns=classes)\n",
    "\n",
    "for test in range(tests):\n",
    "    productsGenerator = ProductsGenerator(productsFile, clustersFile, lambdasFile, randomSeed=None, richness=richness)\n",
    "    check, pred, logLikelihoods = productsGenerator.getProductsListAndClusterPrediction(0, True)\n",
    "    y = productsGenerator.clustersList[productsGenerator.hiddenClusters[0]]\n",
    "    confusionMatrix[y.name][pred.name] += 1"
   ]
  },
  {
   "cell_type": "code",
   "execution_count": 7,
   "metadata": {},
   "outputs": [
    {
     "data": {
      "text/html": [
       "<div>\n",
       "<style scoped>\n",
       "    .dataframe tbody tr th:only-of-type {\n",
       "        vertical-align: middle;\n",
       "    }\n",
       "\n",
       "    .dataframe tbody tr th {\n",
       "        vertical-align: top;\n",
       "    }\n",
       "\n",
       "    .dataframe thead th {\n",
       "        text-align: right;\n",
       "    }\n",
       "</style>\n",
       "<table border=\"1\" class=\"dataframe\">\n",
       "  <thead>\n",
       "    <tr style=\"text-align: right;\">\n",
       "      <th></th>\n",
       "      <th>Молодые родители</th>\n",
       "      <th>Старики</th>\n",
       "      <th>Любители выпить</th>\n",
       "      <th>Здоровое питание</th>\n",
       "    </tr>\n",
       "  </thead>\n",
       "  <tbody>\n",
       "    <tr>\n",
       "      <th>Молодые родители</th>\n",
       "      <td>2165.0</td>\n",
       "      <td>244.0</td>\n",
       "      <td>19.0</td>\n",
       "      <td>190.0</td>\n",
       "    </tr>\n",
       "    <tr>\n",
       "      <th>Старики</th>\n",
       "      <td>124.0</td>\n",
       "      <td>1671.0</td>\n",
       "      <td>110.0</td>\n",
       "      <td>218.0</td>\n",
       "    </tr>\n",
       "    <tr>\n",
       "      <th>Любители выпить</th>\n",
       "      <td>2.0</td>\n",
       "      <td>148.0</td>\n",
       "      <td>2407.0</td>\n",
       "      <td>46.0</td>\n",
       "    </tr>\n",
       "    <tr>\n",
       "      <th>Здоровое питание</th>\n",
       "      <td>163.0</td>\n",
       "      <td>359.0</td>\n",
       "      <td>27.0</td>\n",
       "      <td>2107.0</td>\n",
       "    </tr>\n",
       "  </tbody>\n",
       "</table>\n",
       "</div>"
      ],
      "text/plain": [
       "                  Молодые родители  Старики  Любители выпить  Здоровое питание\n",
       "Молодые родители            2165.0    244.0             19.0             190.0\n",
       "Старики                      124.0   1671.0            110.0             218.0\n",
       "Любители выпить                2.0    148.0           2407.0              46.0\n",
       "Здоровое питание             163.0    359.0             27.0            2107.0"
      ]
     },
     "execution_count": 7,
     "metadata": {},
     "output_type": "execute_result"
    }
   ],
   "source": [
    "confusionMatrix"
   ]
  },
  {
   "cell_type": "code",
   "execution_count": 8,
   "metadata": {},
   "outputs": [
    {
     "name": "stdout",
     "output_type": "stream",
     "text": [
      "Prediction accuracy for richness=1.5:\n",
      "0.835\n"
     ]
    }
   ],
   "source": [
    "print(\"Prediction accuracy for richness=\" + str(richness) + \":\")\n",
    "print(np.array(confusionMatrix).diagonal().sum() / tests)"
   ]
  },
  {
   "cell_type": "code",
   "execution_count": null,
   "metadata": {},
   "outputs": [],
   "source": []
  }
 ],
 "metadata": {
  "kernelspec": {
   "display_name": "Python 3",
   "language": "python",
   "name": "python3"
  },
  "language_info": {
   "codemirror_mode": {
    "name": "ipython",
    "version": 3
   },
   "file_extension": ".py",
   "mimetype": "text/x-python",
   "name": "python",
   "nbconvert_exporter": "python",
   "pygments_lexer": "ipython3",
   "version": "3.7.1"
  }
 },
 "nbformat": 4,
 "nbformat_minor": 2
}
